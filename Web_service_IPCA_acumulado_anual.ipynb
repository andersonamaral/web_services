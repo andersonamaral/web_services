{
 "cells": [
  {
   "cell_type": "code",
   "execution_count": 55,
   "metadata": {
    "collapsed": true
   },
   "outputs": [],
   "source": [
    "############################################################################\n",
    "#Anderson Amaral  : IPCA Acumulado X Ano                                   #\n",
    "# questions and doubts : luis.anderson.sp@gmail.com                        #  \n",
    "# Python 2.7                                                               #\n",
    "#Jupyter Notebook                                                          #\n",
    "#Kernel : ativar kernel do Python 2.7 no terminal : source activate py2    # \n",
    "########################################################################## # \n",
    "import pandas as pd\n",
    "import html5lib\n",
    "import matplotlib.pyplot as plt\n",
    "import seaborn as sns\n",
    "sns.set_style('whitegrid')\n",
    "%matplotlib inline"
   ]
  },
  {
   "cell_type": "markdown",
   "metadata": {},
   "source": [
    "# Web Service do IPCA-IBGE usando Pandas Python : Tabela e Plot #\n",
    "\n",
    "\n",
    "### *Abaixo fiz um pequeno web service para a extração do IPCA usanndo Pandas. Todavia, em vez de usar o site do IBGE, sei o site Portal Brasil, onde o governo também divulga esse e outros índices oficiais * ###"
   ]
  },
  {
   "cell_type": "code",
   "execution_count": 56,
   "metadata": {
    "collapsed": true
   },
   "outputs": [],
   "source": [
    "\n",
    "ipca = pd.read_html('http://www.portalbrasil.net/ipca.htm')"
   ]
  },
  {
   "cell_type": "markdown",
   "metadata": {},
   "source": [
    "### Agora, seleciono um dos frames do site onde eu sei que se encontra a tabela de interesse:"
   ]
  },
  {
   "cell_type": "code",
   "execution_count": 57,
   "metadata": {
    "collapsed": true
   },
   "outputs": [],
   "source": [
    "ipca = ipca[5]"
   ]
  },
  {
   "cell_type": "code",
   "execution_count": 58,
   "metadata": {
    "collapsed": false
   },
   "outputs": [
    {
     "data": {
      "text/html": [
       "<div>\n",
       "<table border=\"1\" class=\"dataframe\">\n",
       "  <thead>\n",
       "    <tr style=\"text-align: right;\">\n",
       "      <th></th>\n",
       "      <th>0</th>\n",
       "      <th>1</th>\n",
       "      <th>2</th>\n",
       "      <th>3</th>\n",
       "      <th>4</th>\n",
       "      <th>5</th>\n",
       "      <th>6</th>\n",
       "      <th>7</th>\n",
       "      <th>8</th>\n",
       "      <th>9</th>\n",
       "      <th>10</th>\n",
       "      <th>11</th>\n",
       "      <th>12</th>\n",
       "      <th>13</th>\n",
       "    </tr>\n",
       "  </thead>\n",
       "  <tbody>\n",
       "    <tr>\n",
       "      <th>0</th>\n",
       "      <td>NaN</td>\n",
       "      <td>JAN</td>\n",
       "      <td>FEV</td>\n",
       "      <td>MAR</td>\n",
       "      <td>ABR</td>\n",
       "      <td>MAI</td>\n",
       "      <td>JUN</td>\n",
       "      <td>JUL</td>\n",
       "      <td>AGO</td>\n",
       "      <td>SET</td>\n",
       "      <td>OUT</td>\n",
       "      <td>NOV</td>\n",
       "      <td>DEZ</td>\n",
       "      <td>ACUMULADO  NO ANO</td>\n",
       "    </tr>\n",
       "    <tr>\n",
       "      <th>1</th>\n",
       "      <td>1980.0</td>\n",
       "      <td>662</td>\n",
       "      <td>462</td>\n",
       "      <td>604</td>\n",
       "      <td>529</td>\n",
       "      <td>570</td>\n",
       "      <td>531</td>\n",
       "      <td>555</td>\n",
       "      <td>495</td>\n",
       "      <td>423</td>\n",
       "      <td>948</td>\n",
       "      <td>667</td>\n",
       "      <td>661</td>\n",
       "      <td>99,27%</td>\n",
       "    </tr>\n",
       "    <tr>\n",
       "      <th>2</th>\n",
       "      <td>1981.0</td>\n",
       "      <td>684</td>\n",
       "      <td>640</td>\n",
       "      <td>497</td>\n",
       "      <td>646</td>\n",
       "      <td>556</td>\n",
       "      <td>552</td>\n",
       "      <td>626</td>\n",
       "      <td>550</td>\n",
       "      <td>526</td>\n",
       "      <td>508</td>\n",
       "      <td>527</td>\n",
       "      <td>593</td>\n",
       "      <td>95,65%</td>\n",
       "    </tr>\n",
       "    <tr>\n",
       "      <th>3</th>\n",
       "      <td>1982.0</td>\n",
       "      <td>697</td>\n",
       "      <td>664</td>\n",
       "      <td>571</td>\n",
       "      <td>589</td>\n",
       "      <td>666</td>\n",
       "      <td>710</td>\n",
       "      <td>636</td>\n",
       "      <td>597</td>\n",
       "      <td>508</td>\n",
       "      <td>444</td>\n",
       "      <td>529</td>\n",
       "      <td>781</td>\n",
       "      <td>104,80%</td>\n",
       "    </tr>\n",
       "    <tr>\n",
       "      <th>4</th>\n",
       "      <td>1983.0</td>\n",
       "      <td>864</td>\n",
       "      <td>786</td>\n",
       "      <td>734</td>\n",
       "      <td>658</td>\n",
       "      <td>648</td>\n",
       "      <td>988</td>\n",
       "      <td>1008</td>\n",
       "      <td>911</td>\n",
       "      <td>1030</td>\n",
       "      <td>887</td>\n",
       "      <td>738</td>\n",
       "      <td>868</td>\n",
       "      <td>163,99%</td>\n",
       "    </tr>\n",
       "  </tbody>\n",
       "</table>\n",
       "</div>"
      ],
      "text/plain": [
       "       0    1    2    3    4    5    6     7    8     9    10   11   12  \\\n",
       "0     NaN  JAN  FEV  MAR  ABR  MAI  JUN   JUL  AGO   SET  OUT  NOV  DEZ   \n",
       "1  1980.0  662  462  604  529  570  531   555  495   423  948  667  661   \n",
       "2  1981.0  684  640  497  646  556  552   626  550   526  508  527  593   \n",
       "3  1982.0  697  664  571  589  666  710   636  597   508  444  529  781   \n",
       "4  1983.0  864  786  734  658  648  988  1008  911  1030  887  738  868   \n",
       "\n",
       "                  13  \n",
       "0  ACUMULADO  NO ANO  \n",
       "1             99,27%  \n",
       "2             95,65%  \n",
       "3            104,80%  \n",
       "4            163,99%  "
      ]
     },
     "execution_count": 58,
     "metadata": {},
     "output_type": "execute_result"
    }
   ],
   "source": [
    "ipca.head()"
   ]
  },
  {
   "cell_type": "markdown",
   "metadata": {},
   "source": [
    "### Alem de ter um valor nulo na amostra acima ( o artifício \".head\"  chama somente as 5 primeiras colunas) , as colunas estão em números enquanto os meses como linha. Vou colocar os meses como colunas usando o código a seguir: ###"
   ]
  },
  {
   "cell_type": "code",
   "execution_count": 59,
   "metadata": {
    "collapsed": true
   },
   "outputs": [],
   "source": [
    "ipca.fillna('ANO', inplace = True)"
   ]
  },
  {
   "cell_type": "code",
   "execution_count": 60,
   "metadata": {
    "collapsed": false
   },
   "outputs": [],
   "source": [
    "\n",
    "ipca.columns = ipca.iloc[0] \n",
    "ipca = ipca.reindex(ipca.index.drop(0))"
   ]
  },
  {
   "cell_type": "markdown",
   "metadata": {},
   "source": [
    "### Veja que acima tenho um dataframe completo do íncide do IPCA anual acumulado desde 1980. Mas eu quero somente após o Plano Real,  e somente os acumulados ao ano,  portanto, vou precisar tratar os dados nos códigos seguintes:# ##"
   ]
  },
  {
   "cell_type": "code",
   "execution_count": 61,
   "metadata": {
    "collapsed": false
   },
   "outputs": [],
   "source": [
    "ipca_acumulado =  ipca[['ANO','ACUMULADO  NO ANO']] "
   ]
  },
  {
   "cell_type": "markdown",
   "metadata": {},
   "source": [
    "### Acima eu seleciona apenas as duas colunas que me  interessa : ANO e ACUMULADO NO ANO, e chamei de IPCA acumulado.Abaixo selecionei as 5 primeiras amostras ###"
   ]
  },
  {
   "cell_type": "code",
   "execution_count": 62,
   "metadata": {
    "collapsed": false
   },
   "outputs": [
    {
     "data": {
      "text/html": [
       "<div>\n",
       "<table border=\"1\" class=\"dataframe\">\n",
       "  <thead>\n",
       "    <tr style=\"text-align: right;\">\n",
       "      <th></th>\n",
       "      <th>ANO</th>\n",
       "      <th>ACUMULADO  NO ANO</th>\n",
       "    </tr>\n",
       "  </thead>\n",
       "  <tbody>\n",
       "    <tr>\n",
       "      <th>1</th>\n",
       "      <td>1980</td>\n",
       "      <td>99,27%</td>\n",
       "    </tr>\n",
       "    <tr>\n",
       "      <th>2</th>\n",
       "      <td>1981</td>\n",
       "      <td>95,65%</td>\n",
       "    </tr>\n",
       "    <tr>\n",
       "      <th>3</th>\n",
       "      <td>1982</td>\n",
       "      <td>104,80%</td>\n",
       "    </tr>\n",
       "    <tr>\n",
       "      <th>4</th>\n",
       "      <td>1983</td>\n",
       "      <td>163,99%</td>\n",
       "    </tr>\n",
       "    <tr>\n",
       "      <th>5</th>\n",
       "      <td>1984</td>\n",
       "      <td>215,27%</td>\n",
       "    </tr>\n",
       "  </tbody>\n",
       "</table>\n",
       "</div>"
      ],
      "text/plain": [
       "0   ANO ACUMULADO  NO ANO\n",
       "1  1980            99,27%\n",
       "2  1981            95,65%\n",
       "3  1982           104,80%\n",
       "4  1983           163,99%\n",
       "5  1984           215,27%"
      ]
     },
     "execution_count": 62,
     "metadata": {},
     "output_type": "execute_result"
    }
   ],
   "source": [
    "ipca_acumulado.head()"
   ]
  },
  {
   "cell_type": "markdown",
   "metadata": {},
   "source": [
    "### Infelizmente, como é típido em todo relatório de índices no Brasil, os número estão em vírgulas. Se estivessem com pontos em vez de vírgulas, eu poderia convertê-los facilamente para float. Como esse não é o caso, eu tenho que fazer uma pequena expressão regular para substituir as vírgulas por pontos ###"
   ]
  },
  {
   "cell_type": "code",
   "execution_count": null,
   "metadata": {
    "collapsed": true
   },
   "outputs": [],
   "source": []
  },
  {
   "cell_type": "code",
   "execution_count": 63,
   "metadata": {
    "collapsed": false
   },
   "outputs": [
    {
     "name": "stderr",
     "output_type": "stream",
     "text": [
      "/home/anderson/anaconda3/envs/py2/lib/python2.7/site-packages/ipykernel/__main__.py:1: SettingWithCopyWarning: \n",
      "A value is trying to be set on a copy of a slice from a DataFrame.\n",
      "Try using .loc[row_indexer,col_indexer] = value instead\n",
      "\n",
      "See the caveats in the documentation: http://pandas.pydata.org/pandas-docs/stable/indexing.html#indexing-view-versus-copy\n",
      "  if __name__ == '__main__':\n",
      "/home/anderson/anaconda3/envs/py2/lib/python2.7/site-packages/ipykernel/__main__.py:2: SettingWithCopyWarning: \n",
      "A value is trying to be set on a copy of a slice from a DataFrame.\n",
      "Try using .loc[row_indexer,col_indexer] = value instead\n",
      "\n",
      "See the caveats in the documentation: http://pandas.pydata.org/pandas-docs/stable/indexing.html#indexing-view-versus-copy\n",
      "  from ipykernel import kernelapp as app\n"
     ]
    }
   ],
   "source": [
    "ipca_acumulado['ACUMULADO  NO ANO'] = ipca_acumulado['ACUMULADO  NO ANO'].str.replace('%', '')\n",
    "ipca_acumulado['ACUMULADO  NO ANO'] = ipca_acumulado['ACUMULADO  NO ANO'].str.replace(',', '.')"
   ]
  },
  {
   "cell_type": "markdown",
   "metadata": {},
   "source": [
    "### Tenho interesse no IPCA acumulado ano a ano apenas após o Plano Real, ou seja, após 1994. Assim, vou usar o índice do ano 1995 para usar os valores do IPCA a partir desse ano ### "
   ]
  },
  {
   "cell_type": "code",
   "execution_count": 64,
   "metadata": {
    "collapsed": false
   },
   "outputs": [],
   "source": [
    " ipca_acumulado = ipca_acumulado.iloc[16:]"
   ]
  },
  {
   "cell_type": "markdown",
   "metadata": {},
   "source": [
    "### Finalmente, após os tratamentos básicos, posso converter o IPCA acumulado em float ###"
   ]
  },
  {
   "cell_type": "code",
   "execution_count": 65,
   "metadata": {
    "collapsed": true
   },
   "outputs": [],
   "source": [
    "ipca_acumulado['ACUMULADO  NO ANO'] = ipca_acumulado['ACUMULADO  NO ANO'].astype(float)"
   ]
  },
  {
   "cell_type": "markdown",
   "metadata": {},
   "source": [
    "### Só que eu também gostaria de colocar os anos como índices das linhas, não números aleatórios, portanto : ###"
   ]
  },
  {
   "cell_type": "code",
   "execution_count": 66,
   "metadata": {
    "collapsed": true
   },
   "outputs": [],
   "source": [
    "ipca_acumulado.set_index('ANO', drop=True, inplace = True)"
   ]
  },
  {
   "cell_type": "markdown",
   "metadata": {},
   "source": [
    "### Finalmente, abaixo tenho a tabela que me interessa, e seu respectivo plot  : ### "
   ]
  },
  {
   "cell_type": "code",
   "execution_count": 67,
   "metadata": {
    "collapsed": false
   },
   "outputs": [
    {
     "data": {
      "text/html": [
       "<div>\n",
       "<table border=\"1\" class=\"dataframe\">\n",
       "  <thead>\n",
       "    <tr style=\"text-align: right;\">\n",
       "      <th></th>\n",
       "      <th>ACUMULADO  NO ANO</th>\n",
       "    </tr>\n",
       "    <tr>\n",
       "      <th>ANO</th>\n",
       "      <th></th>\n",
       "    </tr>\n",
       "  </thead>\n",
       "  <tbody>\n",
       "    <tr>\n",
       "      <th>1996.0</th>\n",
       "      <td>9.56</td>\n",
       "    </tr>\n",
       "    <tr>\n",
       "      <th>1997.0</th>\n",
       "      <td>5.22</td>\n",
       "    </tr>\n",
       "    <tr>\n",
       "      <th>1998.0</th>\n",
       "      <td>1.66</td>\n",
       "    </tr>\n",
       "    <tr>\n",
       "      <th>1999.0</th>\n",
       "      <td>8.94</td>\n",
       "    </tr>\n",
       "    <tr>\n",
       "      <th>2000.0</th>\n",
       "      <td>5.97</td>\n",
       "    </tr>\n",
       "    <tr>\n",
       "      <th>2001.0</th>\n",
       "      <td>7.67</td>\n",
       "    </tr>\n",
       "    <tr>\n",
       "      <th>2002.0</th>\n",
       "      <td>12.53</td>\n",
       "    </tr>\n",
       "    <tr>\n",
       "      <th>2003.0</th>\n",
       "      <td>9.30</td>\n",
       "    </tr>\n",
       "    <tr>\n",
       "      <th>2004.0</th>\n",
       "      <td>7.60</td>\n",
       "    </tr>\n",
       "    <tr>\n",
       "      <th>2005.0</th>\n",
       "      <td>5.69</td>\n",
       "    </tr>\n",
       "    <tr>\n",
       "      <th>2006.0</th>\n",
       "      <td>3.14</td>\n",
       "    </tr>\n",
       "    <tr>\n",
       "      <th>2007.0</th>\n",
       "      <td>4.45</td>\n",
       "    </tr>\n",
       "    <tr>\n",
       "      <th>2008.0</th>\n",
       "      <td>5.90</td>\n",
       "    </tr>\n",
       "    <tr>\n",
       "      <th>2009.0</th>\n",
       "      <td>4.31</td>\n",
       "    </tr>\n",
       "    <tr>\n",
       "      <th>2010.0</th>\n",
       "      <td>5.90</td>\n",
       "    </tr>\n",
       "    <tr>\n",
       "      <th>2011.0</th>\n",
       "      <td>6.50</td>\n",
       "    </tr>\n",
       "    <tr>\n",
       "      <th>2012.0</th>\n",
       "      <td>5.83</td>\n",
       "    </tr>\n",
       "    <tr>\n",
       "      <th>2013.0</th>\n",
       "      <td>5.91</td>\n",
       "    </tr>\n",
       "    <tr>\n",
       "      <th>2014.0</th>\n",
       "      <td>6.40</td>\n",
       "    </tr>\n",
       "    <tr>\n",
       "      <th>2015.0</th>\n",
       "      <td>10.67</td>\n",
       "    </tr>\n",
       "    <tr>\n",
       "      <th>2016.0</th>\n",
       "      <td>6.28</td>\n",
       "    </tr>\n",
       "  </tbody>\n",
       "</table>\n",
       "</div>"
      ],
      "text/plain": [
       "0       ACUMULADO  NO ANO\n",
       "ANO                      \n",
       "1996.0               9.56\n",
       "1997.0               5.22\n",
       "1998.0               1.66\n",
       "1999.0               8.94\n",
       "2000.0               5.97\n",
       "2001.0               7.67\n",
       "2002.0              12.53\n",
       "2003.0               9.30\n",
       "2004.0               7.60\n",
       "2005.0               5.69\n",
       "2006.0               3.14\n",
       "2007.0               4.45\n",
       "2008.0               5.90\n",
       "2009.0               4.31\n",
       "2010.0               5.90\n",
       "2011.0               6.50\n",
       "2012.0               5.83\n",
       "2013.0               5.91\n",
       "2014.0               6.40\n",
       "2015.0              10.67\n",
       "2016.0               6.28"
      ]
     },
     "execution_count": 67,
     "metadata": {},
     "output_type": "execute_result"
    }
   ],
   "source": [
    "ipca_acumulado"
   ]
  },
  {
   "cell_type": "code",
   "execution_count": 68,
   "metadata": {
    "collapsed": false
   },
   "outputs": [
    {
     "data": {
      "text/plain": [
       "<matplotlib.axes._subplots.AxesSubplot at 0x7f6ae15d6550>"
      ]
     },
     "execution_count": 68,
     "metadata": {},
     "output_type": "execute_result"
    },
    {
     "data": {
      "image/png": "[encoded data removed]",
      "text/plain": [
       "<matplotlib.figure.Figure at 0x7f6aeda94850>"
      ]
     },
     "metadata": {},
     "output_type": "display_data"
    }
   ],
   "source": [
    "ipca_acumulado['ACUMULADO  NO ANO'].plot(legend=True,figsize=(10,4))\n"
   ]
  },
  {
   "cell_type": "markdown",
   "metadata": {},
   "source": [
    "### Um Web Services desse que talvez levaria um ou dois dias pelos métodos convencionais : Usando BEAUTIFUL SOUP ou outros para extração e tratamento de dados, pode ser feito em poucas horas usando o leitor de html do Pandas Python ### "
   ]
  },
  {
   "cell_type": "code",
   "execution_count": null,
   "metadata": {
    "collapsed": true
   },
   "outputs": [],
   "source": []
  },
  {
   "cell_type": "code",
   "execution_count": null,
   "metadata": {
    "collapsed": true
   },
   "outputs": [],
   "source": []
  }
 ],
 "metadata": {
  "kernelspec": {
   "display_name": "Python [conda env:py2]",
   "language": "python",
   "name": "conda-env-py2-py"
  },
  "language_info": {
   "codemirror_mode": {
    "name": "ipython",
    "version": 2
   },
   "file_extension": ".py",
   "mimetype": "text/x-python",
   "name": "python",
   "nbconvert_exporter": "python",
   "pygments_lexer": "ipython2",
   "version": "2.7.12"
  }
 },
 "nbformat": 4,
 "nbformat_minor": 1
}
